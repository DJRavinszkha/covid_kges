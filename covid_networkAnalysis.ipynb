{
 "cells": [
  {
   "cell_type": "code",
   "execution_count": 1,
   "id": "immediate-tomato",
   "metadata": {},
   "outputs": [],
   "source": [
    "import networkx as nx\n",
    "import numpy as np\n",
    "import pandas as pd\n",
    "import matplotlib.pyplot as plt"
   ]
  },
  {
   "cell_type": "code",
   "execution_count": 2,
   "id": "polyphonic-inventory",
   "metadata": {
    "scrolled": false
   },
   "outputs": [
    {
     "name": "stderr",
     "output_type": "stream",
     "text": [
      "/Users/ravinschmidl/anaconda3/lib/python3.7/site-packages/IPython/core/interactiveshell.py:3166: DtypeWarning: Columns (5) have mixed types.Specify dtype option on import or set low_memory=False.\n",
      "  interactivity=interactivity, compiler=compiler, result=result)\n",
      "/Users/ravinschmidl/anaconda3/lib/python3.7/site-packages/numpy/lib/arraysetops.py:580: FutureWarning: elementwise comparison failed; returning scalar instead, but in the future will perform elementwise comparison\n",
      "  mask |= (ar1 == a)\n"
     ]
    }
   ],
   "source": [
    "g = nx.Graph()\n",
    "df = pd.read_csv('/Users/ravinschmidl/Desktop/CoV-KGE-master/KG.tsv', sep = '\\t', index_col = 0)\n"
   ]
  },
  {
   "cell_type": "code",
   "execution_count": null,
   "id": "expected-steal",
   "metadata": {},
   "outputs": [],
   "source": []
  },
  {
   "cell_type": "code",
   "execution_count": 3,
   "id": "specific-shade",
   "metadata": {},
   "outputs": [],
   "source": [
    "df = df[['h', 'r', 't', 's']]"
   ]
  },
  {
   "cell_type": "code",
   "execution_count": 5,
   "id": "governing-gravity",
   "metadata": {},
   "outputs": [
    {
     "data": {
      "text/plain": [
       "10280"
      ]
     },
     "execution_count": 5,
     "metadata": {},
     "output_type": "execute_result"
    }
   ],
   "source": [
    "len(df) - len(df.drop_duplicates())"
   ]
  },
  {
   "cell_type": "markdown",
   "id": "liquid-scanning",
   "metadata": {},
   "source": [
    "#### Weighted Edge List\n",
    "GNBR contains scores for the relations between entities. CoV-KGE contains these scores however not the scores for DrugBank data.An arbitrary score of 0.25 was given to any missing scores in CoV-KGE\n",
    "On the other hand, CROssBAR also doesn't contain scores. Given the detail of their KG construction platform, the relations from this graph were given an arbitrary score of 0.7. "
   ]
  },
  {
   "cell_type": "code",
   "execution_count": 6,
   "id": "dominican-california",
   "metadata": {},
   "outputs": [],
   "source": [
    "G = nx.from_pandas_edgelist(df, 'h', 't', ['s'], create_using=nx.MultiDiGraph())"
   ]
  },
  {
   "cell_type": "markdown",
   "id": "italian-delay",
   "metadata": {},
   "source": [
    "Number of Nodes"
   ]
  },
  {
   "cell_type": "code",
   "execution_count": 7,
   "id": "demonstrated-iceland",
   "metadata": {},
   "outputs": [
    {
     "data": {
      "text/plain": [
       "72539"
      ]
     },
     "execution_count": 7,
     "metadata": {},
     "output_type": "execute_result"
    }
   ],
   "source": [
    "G.number_of_nodes()"
   ]
  },
  {
   "cell_type": "markdown",
   "id": "equivalent-radical",
   "metadata": {},
   "source": [
    "Number of Edges"
   ]
  },
  {
   "cell_type": "code",
   "execution_count": 8,
   "id": "charitable-forestry",
   "metadata": {},
   "outputs": [
    {
     "data": {
      "text/plain": [
       "10683731"
      ]
     },
     "execution_count": 8,
     "metadata": {},
     "output_type": "execute_result"
    }
   ],
   "source": [
    "G.number_of_edges()"
   ]
  },
  {
   "cell_type": "code",
   "execution_count": 9,
   "id": "helpful-screen",
   "metadata": {},
   "outputs": [
    {
     "data": {
      "text/plain": [
       "294.56515805290945"
      ]
     },
     "execution_count": 9,
     "metadata": {},
     "output_type": "execute_result"
    }
   ],
   "source": [
    "degrees = [val for (node, val) in G.degree()]  # gets the degrees of each node in the network\n",
    "sum_degrees = sum(degrees) # sums up all the degrees of all nodes in the network\n",
    "avg_degree_g = sum_degrees / G.number_of_nodes() # calculate average degree of network by dividing sum of all node degrees and dividing by number of nodes\n",
    "avg_degree_g "
   ]
  },
  {
   "cell_type": "code",
   "execution_count": 10,
   "id": "choice-butler",
   "metadata": {},
   "outputs": [
    {
     "name": "stdout",
     "output_type": "stream",
     "text": [
      "2016420\n"
     ]
    }
   ],
   "source": [
    "G2 = nx.Graph(G.to_undirected())\n",
    "print(G2.number_of_edges())"
   ]
  },
  {
   "cell_type": "code",
   "execution_count": 11,
   "id": "fifth-profile",
   "metadata": {},
   "outputs": [
    {
     "name": "stdout",
     "output_type": "stream",
     "text": [
      "10683731\n"
     ]
    }
   ],
   "source": [
    "print(G.number_of_edges())"
   ]
  },
  {
   "cell_type": "code",
   "execution_count": 12,
   "id": "invisible-street",
   "metadata": {},
   "outputs": [
    {
     "name": "stdout",
     "output_type": "stream",
     "text": [
      "EIGENVECTOR CENTRALITY\n",
      " 0.046 ZPEIMTDSQAKGNT-UHFFFAOYSA-N\n",
      " 0.046 KFYRPLNVJVHZGT-UHFFFAOYSA-N\n",
      " 0.046 LOUPRKONTZGTKE-LHHVKLHASA-N\n",
      " 0.046 XZZXIYZZBJDEEP-UHFFFAOYSA-N\n",
      " 0.045 ODQWQRRAPPTVAG-GZTJUZNOSA-N\n",
      " 0.045 QZUDBNBUXVUHMW-UHFFFAOYSA-N\n",
      " 0.045 HCYAFALTSJYZDH-UHFFFAOYSA-N\n",
      " 0.045 WIMWMKZEIBHDTH-UHFFFAOYSA-N\n",
      " 0.043 VRBKIVRKKCLPHA-UHFFFAOYSA-N\n",
      " 0.043 PJMPHNIQZUBGLI-UHFFFAOYSA-N\n"
     ]
    }
   ],
   "source": [
    "print(\"EIGENVECTOR CENTRALITY\")\n",
    "results = nx.eigenvector_centrality(G2, weight = 's')\n",
    "eig_cen = []\n",
    "\n",
    "for node_id, rank in sorted(results.items(), key=lambda item: item[1], reverse=True)[:10]:\n",
    "        print(\"{:6.3f} {}\".format(rank, node_id))\n",
    "        eig_cen.append([rank, node_id])"
   ]
  },
  {
   "cell_type": "code",
   "execution_count": 13,
   "id": "minute-inventory",
   "metadata": {},
   "outputs": [
    {
     "name": "stdout",
     "output_type": "stream",
     "text": [
      "PAGE RANK\n",
      "D009369  0.018 \n",
      "D001943  0.005 \n",
      "D064420  0.004 \n",
      "D006528  0.003 \n",
      "D011471  0.003 \n",
      "D015179  0.002 \n",
      "D003920  0.002 \n",
      "D010051  0.002 \n",
      "D008545  0.002 \n",
      "D013274  0.002 \n"
     ]
    }
   ],
   "source": [
    "print(\"PAGE RANK\")\n",
    "pageRank = nx.pagerank(G2, weight = 's')\n",
    "page_rank = []\n",
    "\n",
    "for node_id, rank in sorted(pageRank.items(), key=lambda item: item[1], reverse=True)[:10]:\n",
    "        print(\"{:3} {:6.3f} \".format(node_id, rank,))\n",
    "        page_rank.append([rank, node_id])"
   ]
  },
  {
   "cell_type": "code",
   "execution_count": null,
   "id": "stainless-audience",
   "metadata": {},
   "outputs": [],
   "source": [
    "def adamic(net,x,y,weights={}):\n",
    "    commons = set(getNeighbors(net,x)).intersection(getNeighbors(net,y))\n",
    "    score = 0.0\n",
    "    for n in commons:\n",
    "        if len(getNeighbors(net,n)) != 0:\n",
    "            score += 1.0/math.log(float(len(getNeighbors(net,n))))\n",
    "\n",
    "    return score"
   ]
  },
  {
   "cell_type": "code",
   "execution_count": null,
   "id": "spanish-declaration",
   "metadata": {},
   "outputs": [],
   "source": [
    "l2 = ('EFO:0000694',\n",
    "'P59594-PRO_0000037210',\n",
    "'P59594-PRO_0000037209',\n",
    "'P59594',\n",
    "'P0DTD1-PRO_0000449633',\n",
    "'P0DTD1-PRO_0000449632',\n",
    "'P0DTD1-PRO_0000449631',\n",
    "'P0DTD1-PRO_0000449630',\n",
    "'P0DTD1-PRO_0000449629',\n",
    "'P0DTD1-PRO_0000449628',\n",
    "'P0DTD1-PRO_0000449627',\n",
    "'P0DTD1-PRO_0000449626',\n",
    "'P0DTD1-PRO_0000449625',\n",
    "'P0DTD1-PRO_0000449624',\n",
    "'P0DTD1-PRO_0000449623',\n",
    "'P0DTD1-PRO_0000449622',\n",
    "'P0DTD1-PRO_0000449621',\n",
    "'P0DTD1-PRO_0000449620',\n",
    "'P0DTD1-PRO_0000449619',\n",
    "'P0DTD1',\n",
    "'P0DTC9',\n",
    "'P0DTC8',\n",
    "'P0DTC7',\n",
    "'P0DTC6',\n",
    "'P0DTC5',\n",
    "'P0DTC4',\n",
    "'P0DTC3',\n",
    "'P0DTC2',\n",
    "'P0DTC1-PRO_0000449645',\n",
    "'P0C6X7-PRO_0000283841',\n",
    "'P0C6X7-PRO_0000037322',\n",
    "'P0C6X7-PRO_0000037320',\n",
    "'P0C6X7-PRO_0000037319',\n",
    "'P0C6X7-PRO_0000037318',\n",
    "'P0C6X7-PRO_0000037317',\n",
    "'P0C6X7-PRO_0000037316',\n",
    "'P0C6X7-PRO_0000037315',\n",
    "'P0C6X7-PRO_0000037314',\n",
    "'P0C6X7-PRO_0000037313',\n",
    "'P0C6X7-PRO_0000037312',\n",
    "'P0C6X7-PRO_0000037311',\n",
    "'P0C6X7-PRO_0000037310',\n",
    "'P0C6X7-PRO_0000037309',\n",
    "'P0C6X7',\n",
    "'P0C6U8-PRO_0000338265',\n",
    "'P0C6U8')\n"
   ]
  },
  {
   "cell_type": "code",
   "execution_count": null,
   "id": "passive-implement",
   "metadata": {
    "scrolled": false
   },
   "outputs": [],
   "source": [
    "def jaccard_similarity(g, h):\n",
    "    i = set(g).intersection(h)\n",
    "    return round(len(i) / (len(g) + len(h) - len(i)),3)\n",
    "\n",
    "preds = []\n",
    "for i in range(0, len(l1)):\n",
    "    for i in range(0, len(l2)):\n",
    "        js = jaccard_similarity(l2[j], l1[i])\n",
    "        print(l2[j], l1[i])\n",
    "        print(js)\n",
    "        print('==========')\n",
    "        \n",
    "        preds.append([l2[j], l1[i], js])\n",
    "        "
   ]
  }
 ],
 "metadata": {
  "kernelspec": {
   "display_name": "Python 3",
   "language": "python",
   "name": "python3"
  },
  "language_info": {
   "codemirror_mode": {
    "name": "ipython",
    "version": 3
   },
   "file_extension": ".py",
   "mimetype": "text/x-python",
   "name": "python",
   "nbconvert_exporter": "python",
   "pygments_lexer": "ipython3",
   "version": "3.7.1"
  }
 },
 "nbformat": 4,
 "nbformat_minor": 5
}
